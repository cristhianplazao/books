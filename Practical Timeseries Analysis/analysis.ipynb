{
 "cells": [
  {
   "cell_type": "markdown",
   "metadata": {},
   "source": [
    "# Practical Time Series Analysis"
   ]
  },
  {
   "cell_type": "markdown",
   "metadata": {},
   "source": [
    "Authors: \n",
    "  * Dr. Avishek Pal\n",
    "  * Dr. PKS Prakash"
   ]
  },
  {
   "cell_type": "markdown",
   "metadata": {},
   "source": [
    "Notebook from:\n",
    "  * Cristhian Augusto Plazas Ortega\n",
    "  * Data Scientist\n",
    "  * cristhianplaza.o@gmail.com\n",
    "  * MSc Engineering Information"
   ]
  },
  {
   "cell_type": "markdown",
   "metadata": {},
   "source": [
    "1. Introduction to Time Series\n",
    "2. Understanding Time Series Data\n",
    "3. Exponential Smoothing based Models\n",
    "4. Auto-Regressive Models\n",
    "5. Deep Learning for Time Series Forecasting\n",
    "6. Getting Started with Python"
   ]
  },
  {
   "cell_type": "markdown",
   "metadata": {},
   "source": [
    "## 1. Introducción a las series temporales"
   ]
  },
  {
   "cell_type": "markdown",
   "metadata": {},
   "source": [
    "* Existe un creciente interés de analizar datos de diferentes tipos de industrias. La mayoríad de estos datos son temporales \n",
    "* Los datos de series temporales suelen estar espaciados en el mismo intérvalo de tiempo (1m, 5m, 1d, 5d, 1mon, 5mon, etc.)\n",
    "* La frecuencia de cada observación depende de la naturaleza de la variable y su aplicación"
   ]
  },
  {
   "cell_type": "markdown",
   "metadata": {},
   "source": [
    "### Diferentes tipos de datos"
   ]
  },
  {
   "cell_type": "markdown",
   "metadata": {},
   "source": [
    "* Los tipos de datos que comúnmente son encontrados en projectos de análsisi son:\n",
    "  * Cross-Sectional Data\n",
    "  * Time Series Data\n",
    "  * Panel Data\n",
    "* Entender con que tipos de datos se cuenta ayuda a entender como se debe abordar el problema"
   ]
  },
  {
   "cell_type": "markdown",
   "metadata": {},
   "source": [
    "#### Datos tipo Cross-Sectional "
   ]
  },
  {
   "cell_type": "markdown",
   "metadata": {},
   "source": [
    "* Datos transversales de una población que pueden estar dentro de un mismo intervalo tiempo o no. Es decir, el tiempo no tiene ninguna relevancia en el análisis.\n",
    "* A menudo de este tipo de datos se empiezan analizando usando gráficas para observar sus propiedades estadísticas como:\n",
    "  * La tendencia central\n",
    "  * La dispersión\n",
    "  * La asimetría\n",
    "  * La curtosis"
   ]
  },
  {
   "cell_type": "markdown",
   "metadata": {},
   "source": [
    "<div style=\"display: inline-block; margin:auto; text-align:center\">\n",
    "    <img src=\"images/CrossSectionalVisualizationAnalysis.PNG\" alt=\"CrossSectional\" style=\"display: inline-block;\" height=\"400\" />\n",
    "    <img src=\"images/CrossSectionalVisualizationAnalysis2.PNG\" alt=\"CrossSectional\" style=\"display: inline-block;\" height=\"400\" />\n",
    "</div> "
   ]
  },
  {
   "cell_type": "markdown",
   "metadata": {},
   "source": [
    "##### Datos de Series Temporales"
   ]
  },
  {
   "cell_type": "markdown",
   "metadata": {},
   "source": [
    "* Una serie temporal se compone de observaciones cuantitativas sobre una o más características medibles de una entidad individual y tomadas en múltiples puntos en el tiempo.\n",
    "* Los datos de series temporales se caracterizan por tener datos internos interesantes para el análisis como\n",
    "  * Tendencia\n",
    "  * Estacionalidad\n",
    "  * Estacionariedad\n",
    "  * Autocorrelación"
   ]
  },
  {
   "cell_type": "markdown",
   "metadata": {},
   "source": [
    "<img src=\"images/timeseries.PNG\" alt=\"TimeSeries\" style=\"display: block; margin:auto\" height=\"400\" />"
   ]
  },
  {
   "cell_type": "markdown",
   "metadata": {},
   "source": [
    "#### Datos tipo Panel"
   ]
  },
  {
   "cell_type": "markdown",
   "metadata": {},
   "source": [
    "* Un conjunto de datos puede ser considerado como un conjunto \"Panel Data\" cuando se observan multiples entidades sobre multiplos puntos en el tiempo. Este conjunto de datos también es llamado conjunto longitudinal de datos."
   ]
  },
  {
   "cell_type": "markdown",
   "metadata": {},
   "source": [
    "<img src=\"images/panelData.PNG\" alt=\"TimeSeries\" style=\"display: block; margin:auto\" height=\"400\" />"
   ]
  },
  {
   "cell_type": "markdown",
   "metadata": {},
   "source": [
    "### Estructura Interna de Series Temporales"
   ]
  },
  {
   "cell_type": "markdown",
   "metadata": {},
   "source": [
    "Conceptualmente una serie temporal puede contar con las siguientes características:\n",
    "\n",
    "* Tendencia General (General Trend)\n",
    "* Estacionalidad (Seasonality)\n",
    "* Movimientos ciclicos (Cyclical Movements)\n",
    "* Variaciones inesperadas (Unexpected variations)\n",
    "\n",
    "Donde la variable dependiente puede ser la suma de estas características"
   ]
  },
  {
   "cell_type": "markdown",
   "metadata": {},
   "source": [
    "<img src=\"images/TimeSerieBasicEquation.PNG\" alt=\"TimeSeries\" style=\"display: block; margin:auto\" height=\"400\" />"
   ]
  },
  {
   "cell_type": "markdown",
   "metadata": {},
   "source": [
    "<i>t</i>, es el índice del tiempo en el cual se representan las observaciones. Su espacio es igual y progresivo. Las series temporales se analizan de tal forma que se éstas se puedan descomponer en las características que les compone para estudiarlas una a una y entender así, el comportamiento de toda la serie temporal. Desde luego, este analisis sirve para pronosticar también puntos en el tiempo futuros"
   ]
  },
  {
   "cell_type": "markdown",
   "metadata": {},
   "source": [
    "#### Tendencia General (General Trend)"
   ]
  },
  {
   "cell_type": "markdown",
   "metadata": {},
   "source": [
    "Cuando la serie temporal presenta un movimiento alcista o bajista durante un largo tiempo, puede decirse entonces que esta serie tiene una tendencia. Una manera rápida y fácil de observar si una serie temporal tiene una tendencia es a través de un gráfico. Sin embargo, una tendencia general podría no ser evidente con series temporales cortas ya que este tipo de series temporales están expuestas a efectos de fluctuaciones de estacionalidad (seasonality) y variaciones irregulares (unexpected variations), por lo que de querer observar una tendencia general mediante un gráfico es necesario optar por series temporales de gran volumen de datos. Una tendencia general tiene una razón de ser sistémica o fundamental por ello las concentraciones de CO2 aumenta gradualmente en el tiempo desde 1974 a 1987 dada la industrialización. "
   ]
  },
  {
   "cell_type": "markdown",
   "metadata": {},
   "source": [
    "<div style=\"display: inline-block; margin:auto; text-align:center\">\n",
    "    <img src=\"images/GeneralTrend.PNG\" alt=\"GeneralTrend\" style=\"display: inline-block;\" height=\"400\" />\n",
    "    <img src=\"images/GeneralTrendOnShortTS.PNG\" alt=\"GeneralTrend\" style=\"display: inline-block;\" height=\"400\" />\n",
    "    <img src=\"images/ResidualsOnCO2.PNG\" alt=\"Residuals\" style=\"display: inline-block;\" height=\"400\" />\n",
    "</div> "
   ]
  },
  {
   "cell_type": "markdown",
   "metadata": {},
   "source": [
    "Una tendencia general puede modelarse a través de una regresión contra el tiempo y otros factores conocidos, esta regresión sobre la línea de tendencia puede ser usada para realizar predicciones. Los residuos que salen de la regresión pueden ser usados para analizar otros componentes de interés como lo son la estacionalidad, comportamiento cíclico y las variaciones irregulares. NOTA: Los residuos en la jerga estadística, no son otra cosa que las diferencias encontradas entre el valor que predice un modelo y el valor observado en la práctica es decir, <i>y - ypred</i>"
   ]
  },
  {
   "cell_type": "markdown",
   "metadata": {},
   "source": [
    "#### Estacionalidad (Seasonality)"
   ]
  },
  {
   "cell_type": "markdown",
   "metadata": {},
   "source": [
    "La estacionalidad se manifiesta como variaciones repetitivas y periódicas en una serie temporal. En el análisis exploratio los siguientes gráficos pueden denotar la presencia de estacionalidad en una serie temporal\n",
    "* Diagrama de secuencia de ejecución (Run-sequence plot)\n",
    "* Diagrama de subserie estacional (Seasonal subseries plot)\n",
    "* Diagramas de boxplots (Multiple box plots)"
   ]
  },
  {
   "cell_type": "markdown",
   "metadata": {},
   "source": [
    "##### Diagrama de secuencia de ejecución"
   ]
  },
  {
   "cell_type": "markdown",
   "metadata": {},
   "source": [
    "Un diagrama simple de secuencia de ejecución (Run-sequence plot) sobre la serie temporal original donde el eje x sea el tiempo y el eje y la variable dependiente puede ser un buen gráfico para observar las siguientes propiedades de la serie temporal:\n",
    "* Movimientos en la media de la serie temporal\n",
    "* Cambios en la varianza\n",
    "* Presencia de valores atípicos"
   ]
  },
  {
   "cell_type": "markdown",
   "metadata": {},
   "source": [
    "<img src=\"images/GeneralTrendOnShortTS.PNG\" alt=\"GeneralTrend\" style=\"display: block; margin: auto;\" height=\"400\" />"
   ]
  },
  {
   "cell_type": "markdown",
   "metadata": {},
   "source": [
    "##### Diagrama de subserie estacional"
   ]
  },
  {
   "cell_type": "markdown",
   "metadata": {},
   "source": [
    "Es una herramienta que permite detectar la estacionalidad en una serie temporal y su cambio sobre el tiempo, sin embargo, ésta herramienta sólo es útil cuando la periodicidad de la estacionalidad es conocida. Por ejemplo, los datos mensuales tienen normalmente una periodicidad de 12. Si la periodicidad no se conoce un diagrama de autocorrelación o un diagrama espectral puede ser usado para determinar esta periodicidad. Si el volumen de datos es abundante puede ayudar usar un diagrama de box plot"
   ]
  },
  {
   "cell_type": "markdown",
   "metadata": {},
   "source": [
    "<div style=\"display: inline-block; margin:auto; text-align:center\">\n",
    "    <img src=\"images/SeasonSeriesPlotQuarterlyMean.PNG\" alt=\"SeasonSeriesPlotQuarterlyMean\" style=\"display: inline-block;\" height=\"400\" />\n",
    "    <img src=\"images/SeasonSeriesPlotQuarterlySTD.PNG\" alt=\"SeasonSeriesPlotQuarterlySTD\" style=\"display: inline-block;\" height=\"400\" />\n",
    "</div> "
   ]
  },
  {
   "cell_type": "markdown",
   "metadata": {},
   "source": [
    "##### Box plots múltiples "
   ]
  },
  {
   "cell_type": "markdown",
   "metadata": {},
   "source": [
    "El diagrama usando multiples boxplots puede generar más información que el diagrama de subseries estacionales ya que éste muestra la tendencia central y la dispersión dentro de los datos estacionales sobre un íntervalo de tiempo. La separación entre dos box plots adjacentes revela la varación de la estacionalidad"
   ]
  },
  {
   "cell_type": "markdown",
   "metadata": {},
   "source": [
    "<img src=\"images/BoxPlotsForSeasonalDetection.PNG\" alt=\"BoxPlotsForSeasonalDetection\" style=\"display: block; margin: auto;\" height=\"400\" />"
   ]
  },
  {
   "cell_type": "markdown",
   "metadata": {},
   "source": [
    "#### Cambios Cíclicos"
   ]
  },
  {
   "cell_type": "markdown",
   "metadata": {},
   "source": [
    "Son movimientos observados luego de ciertos íntervalos de tiempo y ocurren en menor medidad que las fluctuaciones estacionales. A diferencia de la estacionalidad los cambios cíclicos pueden no tener un periodo fijo de variaciones; cada navidad, cada quartil de año, cada mes, cada lunes son ejemplos de estacionalidad. Para encontrar cambios cíclicos, es necesario contar con gráficos de largo plazo. Periodos de recesión económica como de auge pueden interpretarse como cambios cíclicos. Gran cantidad de datos puede ser necesaria al igual que con las tendencias para la identificación de ésta característica"
   ]
  },
  {
   "cell_type": "markdown",
   "metadata": {},
   "source": [
    "<img src=\"images/CyclicalChanges.PNG\" alt=\"CyclicalChanges\" style=\"display: block; margin: auto;\" height=\"400\" />"
   ]
  },
  {
   "cell_type": "markdown",
   "metadata": {},
   "source": [
    "En la imágen anterior, tanto India como US exhiben patrones cíclicos en la inflación del IPC, este cíclo de dura un periodo de 2 a 2.5 años aproximadamente"
   ]
  },
  {
   "cell_type": "markdown",
   "metadata": {},
   "source": [
    "#### Variaciones Inesperadas"
   ]
  },
  {
   "cell_type": "markdown",
   "metadata": {},
   "source": [
    "Hay que recordar que una serie temporal es una suma de diferentes componentes o características dentro de las que se encuentran la tendencia, la estacionalidad, los cambios cíclicos y las variaciones inesperadas. Éste último componente, es el que se representa en esta pequeña sección y no es más que un componente el cual es tratado como error dada la falta de variables explicativas que modelen matemáticamente este componente o a la presencia de ruido aleatorio, por ello, se dice que este componente no depende del tiempo, es estocástico (aleatorio), es irreducible y como no puede enmarcarse en un modelo matemático no debe ser tenido en cuenta para un pronóstico definitivo."
   ]
  },
  {
   "cell_type": "markdown",
   "metadata": {},
   "source": [
    "### Modelos para el análisis de Series Temporales"
   ]
  },
  {
   "cell_type": "markdown",
   "metadata": {},
   "source": [
    "El propósito del análisis de series temporales, es desarrollar modelos matemáticos que ayuden a explicar el comportamiento observado y pronosticar el estado futuro de estas series. Generalmente los modelos más usados son:\n",
    "* Modelos Zero-Mean\n",
    "* Modelos Random Walk\n",
    "* Modelos de Tendencia\n",
    "* Modelos de Estacionalidad"
   ]
  },
  {
   "cell_type": "markdown",
   "metadata": {},
   "source": [
    "#### Modelos Zero-Mean"
   ]
  },
  {
   "cell_type": "markdown",
   "metadata": {},
   "source": [
    "Los modelos zero-mean buscan modelar matemáticamente el ruido dentro de una serie temporal. El ruido, como se mencionó dentro de la sección de variaciones irregulares puede deberse a variables u observaciones explicativas que no se conocen o a simplemente ruido aleatorio, lo que significa, que este ruido se compone de variables aleatorias que son independientes entre ellas e idénticamente distribuidas (IID) y cuya media debe ser cero. Al tener una media cero y varianza constante, estas variables o modelamientos no pueden predecir tendencia ni estacionalidad. La distribución de estas IID en conjunto se da como producto de la función de probabilidad de masa o probability mass function para cada índice de tiempo"
   ]
  },
  {
   "cell_type": "markdown",
   "metadata": {},
   "source": [
    "<img src=\"images/MassProbabilityFunction.PNG\" alt=\"MassProbabilityFunction\" style=\"display: block; margin: auto;\" height=\"50\" />"
   ]
  },
  {
   "cell_type": "markdown",
   "metadata": {},
   "source": [
    "Entonces, dado que modelar una serie temporal zero-mean requiere de una media cero y varianza constante además de ser ruido aleatorio irreducible, los valores de este ruido pueden ser reales infinitos, sin embargo, en muchos casos el estado observable del sistema o proceso puede ser de naturaleza discreta y estar atado a un número finito de valores posibles <i>s1, s2, ..., sm</i>. De ser así, entonces esta variable observada de ruido obedece a una distribución multinomial y dicha serie temporal sería un proceso estocástico discreto"
   ]
  },
  {
   "cell_type": "markdown",
   "metadata": {},
   "source": [
    "<img src=\"images/MultinomialDistribution.PNG\" alt=\"MultinomialDistribution\" style=\"display: block; margin: auto;\" height=\"100\" />"
   ]
  },
  {
   "cell_type": "markdown",
   "metadata": {},
   "source": [
    "<img src=\"images/Zero-mean.PNG\" alt=\"Zero-mean\" style=\"display: block; margin: auto;\" height=\"400\" />"
   ]
  },
  {
   "cell_type": "markdown",
   "metadata": {},
   "source": [
    "#### Modelos Random Walk"
   ]
  },
  {
   "cell_type": "markdown",
   "metadata": {},
   "source": [
    "Este modelado se obtiene de la suma cumulativa de los IIDs por lo que también heredan su comportamiento en media cero y varianza constante, pero si este comportamiento se encuentra dentro de una serie temporal, este modelamiento se puede reducir a un modelo de zero-mean tomando la diferencia de las observaciones de dos índices de tiempo consecutivo como <i>St - St-1 = xt</i>. Dicha diferencia sería un IID con media cero y varianza constante."
   ]
  },
  {
   "cell_type": "markdown",
   "metadata": {},
   "source": [
    "<img src=\"images/RandomWalk.PNG\" alt=\"RandomWalk\" style=\"display: block; margin: auto;\" height=\"400\" />"
   ]
  },
  {
   "cell_type": "markdown",
   "metadata": {},
   "source": [
    "#### Modelos de Tendencia"
   ]
  },
  {
   "cell_type": "markdown",
   "metadata": {},
   "source": [
    "Con este tipo de modelamiento se pretende capturar la tendencia a largo plazo de la serie que se ajuste a una regresión lineal respecto del tiempo el cuál sería el índice. Si la serie temporal no presenta fluctuaciones periódicas o estacionales, matemáticamente puede modelarse la serie temporal como la suma de la tendencia y el modelo zero-mean."
   ]
  },
  {
   "cell_type": "markdown",
   "metadata": {},
   "source": [
    "<img src=\"images/TrendModels.PNG\" alt=\"TrendModels\" style=\"display: block; margin: auto;\" height=\"100\" />"
   ]
  }
 ],
 "metadata": {
  "kernelspec": {
   "display_name": "Python 3.9.6 64-bit",
   "language": "python",
   "name": "python3"
  },
  "language_info": {
   "codemirror_mode": {
    "name": "ipython",
    "version": 3
   },
   "file_extension": ".py",
   "mimetype": "text/x-python",
   "name": "python",
   "nbconvert_exporter": "python",
   "pygments_lexer": "ipython3",
   "version": "3.9.6"
  },
  "metadata": {
   "interpreter": {
    "hash": "dfc2ad8d9a4e7dfc4851c3b73bc8e8850cdbaa706faedbf37c35ac8663bd076e"
   }
  },
  "orig_nbformat": 2,
  "vscode": {
   "interpreter": {
    "hash": "81794d4967e6c3204c66dcd87b604927b115b27c00565d3d43f05ba2f3a2cb0d"
   }
  }
 },
 "nbformat": 4,
 "nbformat_minor": 2
}
